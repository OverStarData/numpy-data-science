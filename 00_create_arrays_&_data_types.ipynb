{
 "cells": [
  {
   "cell_type": "markdown",
   "id": "3d2369c0-a840-4d21-94cc-35580646eebf",
   "metadata": {},
   "source": [
    "# creating arrays & add or check data types"
   ]
  },
  {
   "cell_type": "code",
   "execution_count": 2,
   "id": "caedf01e-5e70-4e23-b0ce-5112079e88a5",
   "metadata": {},
   "outputs": [],
   "source": [
    "# import libs \n",
    "\n",
    "import numpy as np\n",
    "from matplotlib import pyplot as plt\n",
    "from numpy import random"
   ]
  },
  {
   "cell_type": "code",
   "execution_count": 6,
   "id": "90b04cc1-c27d-4147-a4b8-f6e4a15c2ec7",
   "metadata": {},
   "outputs": [
    {
     "data": {
      "text/plain": [
       "array([1, 2, 3, 4, 5], dtype=int8)"
      ]
     },
     "execution_count": 6,
     "metadata": {},
     "output_type": "execute_result"
    }
   ],
   "source": [
    "# create one dimetion array & print it out\n",
    "\n",
    "list_1 = [1,2,3,4,5]\n",
    "np_arr_1  = np.array(list_1, dtype=np.int8)\n",
    "np_arr_1"
   ]
  },
  {
   "cell_type": "code",
   "execution_count": 8,
   "id": "429773e4-0c83-4d84-acd6-4e083fb29f66",
   "metadata": {},
   "outputs": [
    {
     "data": {
      "text/plain": [
       "array([[1, 2, 3],\n",
       "       [2, 4, 5]], dtype=int8)"
      ]
     },
     "execution_count": 8,
     "metadata": {},
     "output_type": "execute_result"
    }
   ],
   "source": [
    "# create multiple dimention array & print it out \n",
    "\n",
    "m_list_2 = [[1,2,3],[2,4,5]]\n",
    "np_arr_2 = np.array(m_list_2, dtype=np.int8)\n",
    "np_arr_2"
   ]
  },
  {
   "cell_type": "code",
   "execution_count": 9,
   "id": "8c39d161-29bc-48e8-b148-f5bd19d9b90b",
   "metadata": {},
   "outputs": [
    {
     "data": {
      "text/plain": [
       "dtype('int8')"
      ]
     },
     "execution_count": 9,
     "metadata": {},
     "output_type": "execute_result"
    }
   ],
   "source": [
    "# check the array data type\n",
    "\n",
    "np_arr_2.dtype"
   ]
  },
  {
   "cell_type": "code",
   "execution_count": 11,
   "id": "dedd6f8b-2f8c-4202-ab9d-79abcc77827f",
   "metadata": {},
   "outputs": [
    {
     "data": {
      "text/plain": [
       "array([0, 2, 4, 6, 8])"
      ]
     },
     "execution_count": 11,
     "metadata": {},
     "output_type": "execute_result"
    }
   ],
   "source": [
    "# create iterated array of range int\n",
    "\n",
    "np.arange(0,10,2)"
   ]
  },
  {
   "cell_type": "code",
   "execution_count": 13,
   "id": "b6cc1414-1903-4b47-835b-e28373a319cb",
   "metadata": {},
   "outputs": [
    {
     "data": {
      "text/plain": [
       "array([0., 1., 2., 3., 4., 5.])"
      ]
     },
     "execution_count": 13,
     "metadata": {},
     "output_type": "execute_result"
    }
   ],
   "source": [
    "# create random array from 0 to 5 with size 6 \n",
    "\n",
    "np.linspace(0,5,6)"
   ]
  },
  {
   "cell_type": "code",
   "execution_count": 19,
   "id": "3b132fe1-854d-4940-9538-a894da46dc88",
   "metadata": {},
   "outputs": [
    {
     "data": {
      "text/plain": [
       "array([0., 0.])"
      ]
     },
     "execution_count": 19,
     "metadata": {},
     "output_type": "execute_result"
    }
   ],
   "source": [
    "# create array of zeros and ones \n",
    "\n",
    "np.zeros(2)"
   ]
  },
  {
   "cell_type": "code",
   "execution_count": 20,
   "id": "1d5b7664-fddf-4b29-8702-6b56a87201af",
   "metadata": {},
   "outputs": [
    {
     "data": {
      "text/plain": [
       "array([[0., 0., 0.],\n",
       "       [0., 0., 0.]])"
      ]
     },
     "execution_count": 20,
     "metadata": {},
     "output_type": "execute_result"
    }
   ],
   "source": [
    "np.zeros((2,3))"
   ]
  },
  {
   "cell_type": "code",
   "execution_count": 21,
   "id": "435d5df9-0449-4060-aa63-eb545529c40c",
   "metadata": {},
   "outputs": [
    {
     "data": {
      "text/plain": [
       "array([1., 1., 1., 1.])"
      ]
     },
     "execution_count": 21,
     "metadata": {},
     "output_type": "execute_result"
    }
   ],
   "source": [
    "np.ones(4)\n"
   ]
  },
  {
   "cell_type": "code",
   "execution_count": 22,
   "id": "96c160af-a15c-4981-8ea2-395a2dd3132e",
   "metadata": {},
   "outputs": [
    {
     "data": {
      "text/plain": [
       "array([[1., 1., 1.],\n",
       "       [1., 1., 1.]])"
      ]
     },
     "execution_count": 22,
     "metadata": {},
     "output_type": "execute_result"
    }
   ],
   "source": [
    "np.ones((2,3))"
   ]
  },
  {
   "cell_type": "code",
   "execution_count": 23,
   "id": "bae58b5c-4c12-4f5e-b287-15c6a9d1d7a5",
   "metadata": {},
   "outputs": [
    {
     "data": {
      "text/plain": [
       "array([5, 9, 7])"
      ]
     },
     "execution_count": 23,
     "metadata": {},
     "output_type": "execute_result"
    }
   ],
   "source": [
    "# create one dim array or randoms from of size 3\n",
    "\n",
    "np.random.randint(5,10, 3)"
   ]
  },
  {
   "cell_type": "code",
   "execution_count": 24,
   "id": "f9177285-40ce-4e78-ac52-a5fce33cb92d",
   "metadata": {},
   "outputs": [
    {
     "data": {
      "text/plain": [
       "array([[7, 4, 5],\n",
       "       [5, 4, 6]])"
      ]
     },
     "execution_count": 24,
     "metadata": {},
     "output_type": "execute_result"
    }
   ],
   "source": [
    "# create two dim array or randoms from of size 2,3\n",
    "\n",
    "np.random.randint(4,10,size=(2,3))"
   ]
  },
  {
   "cell_type": "code",
   "execution_count": 25,
   "id": "332ff1cc-8f7b-4fe0-a786-8d4cc59c8567",
   "metadata": {},
   "outputs": [
    {
     "data": {
      "text/plain": [
       "array([0.37323472, 0.95029078])"
      ]
     },
     "execution_count": 25,
     "metadata": {},
     "output_type": "execute_result"
    }
   ],
   "source": [
    "# create random array of size 2 from zero to one\n",
    "\n",
    "np.random.rand(2)\n"
   ]
  },
  {
   "cell_type": "code",
   "execution_count": 26,
   "id": "917c10e9-cfdd-4755-a1de-2073b767f16c",
   "metadata": {},
   "outputs": [
    {
     "data": {
      "text/plain": [
       "array([[0.77999839, 0.46478149, 0.85582146],\n",
       "       [0.74620919, 0.45658316, 0.64044071]])"
      ]
     },
     "execution_count": 26,
     "metadata": {},
     "output_type": "execute_result"
    }
   ],
   "source": [
    "# create random array of size (2,3) two dim from zero to one\n",
    "\n",
    "np.random.rand(2,3)"
   ]
  },
  {
   "cell_type": "code",
   "execution_count": null,
   "id": "0c06656c-81d4-4a7e-b354-4378db14a7b2",
   "metadata": {},
   "outputs": [],
   "source": []
  },
  {
   "cell_type": "code",
   "execution_count": null,
   "id": "9a72c61a-c023-4d56-82a4-3dbf9ddafc8a",
   "metadata": {},
   "outputs": [],
   "source": []
  }
 ],
 "metadata": {
  "kernelspec": {
   "display_name": "Python [conda env:base] *",
   "language": "python",
   "name": "conda-base-py"
  },
  "language_info": {
   "codemirror_mode": {
    "name": "ipython",
    "version": 3
   },
   "file_extension": ".py",
   "mimetype": "text/x-python",
   "name": "python",
   "nbconvert_exporter": "python",
   "pygments_lexer": "ipython3",
   "version": "3.12.7"
  }
 },
 "nbformat": 4,
 "nbformat_minor": 5
}

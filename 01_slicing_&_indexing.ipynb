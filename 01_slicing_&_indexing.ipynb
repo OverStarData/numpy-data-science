{
 "cells": [
  {
   "cell_type": "markdown",
   "id": "1270080d-ff71-4c2f-8d39-f9b6feadd5a3",
   "metadata": {},
   "source": [
    "# slicing & indexing"
   ]
  },
  {
   "cell_type": "code",
   "execution_count": 56,
   "id": "68729877-5ad6-4752-bcf3-22756e1d2d39",
   "metadata": {},
   "outputs": [],
   "source": [
    "# imports \n",
    "\n",
    "import numpy as np\n",
    "from matplotlib import pyplot as plt\n",
    "from numpy import random"
   ]
  },
  {
   "cell_type": "code",
   "execution_count": 57,
   "id": "47792657-def9-4a4e-af26-73d6f8c9399f",
   "metadata": {},
   "outputs": [
    {
     "data": {
      "text/plain": [
       "array([[1, 2, 3],\n",
       "       [4, 5, 6],\n",
       "       [7, 8, 9]], dtype=int8)"
      ]
     },
     "execution_count": 57,
     "metadata": {},
     "output_type": "execute_result"
    }
   ],
   "source": [
    "# create array of three dim & print it out\n",
    "\n",
    "array = np.array([[1,2,3],[4,5,6],[7,8,9]], dtype=np.int8)\n",
    "array"
   ]
  },
  {
   "cell_type": "code",
   "execution_count": 58,
   "id": "5abda5e8-cb27-45d0-be88-bc1b6f349bc7",
   "metadata": {},
   "outputs": [
    {
     "data": {
      "text/plain": [
       "array([1, 2, 3], dtype=int8)"
      ]
     },
     "execution_count": 58,
     "metadata": {},
     "output_type": "execute_result"
    }
   ],
   "source": [
    "# get first index in the array\n",
    "\n",
    "array[0]"
   ]
  },
  {
   "cell_type": "code",
   "execution_count": 59,
   "id": "56e9dfec-dd17-4ff1-95cd-cbbe5434700a",
   "metadata": {},
   "outputs": [
    {
     "data": {
      "text/plain": [
       "1"
      ]
     },
     "execution_count": 59,
     "metadata": {},
     "output_type": "execute_result"
    }
   ],
   "source": [
    "# get first item in the array of first index\n",
    "\n",
    "array[0,0]"
   ]
  },
  {
   "cell_type": "code",
   "execution_count": 60,
   "id": "a4d5d5d0-3d31-498e-8f96-f63805eec629",
   "metadata": {},
   "outputs": [
    {
     "data": {
      "text/plain": [
       "array([[100,   2,   3],\n",
       "       [  4,   5,   6],\n",
       "       [  7,   8,   9]], dtype=int8)"
      ]
     },
     "execution_count": 60,
     "metadata": {},
     "output_type": "execute_result"
    }
   ],
   "source": [
    "# set first item in the array of first inext to 100\n",
    "\n",
    "array[0,0] = 100\n",
    "array"
   ]
  },
  {
   "cell_type": "code",
   "execution_count": 61,
   "id": "7e7435ea-f683-4b7e-b35a-6561d8439230",
   "metadata": {},
   "outputs": [
    {
     "data": {
      "text/plain": [
       "array([[1, 2, 3],\n",
       "       [4, 5, 6],\n",
       "       [7, 8, 9]], dtype=int8)"
      ]
     },
     "execution_count": 61,
     "metadata": {},
     "output_type": "execute_result"
    }
   ],
   "source": [
    "# set first item in the array of first inext to 1 again\n",
    "\n",
    "array.itemset((0,0), 1)\n",
    "array"
   ]
  },
  {
   "cell_type": "code",
   "execution_count": 62,
   "id": "04421d7f-ed1d-45ae-bb13-3ebb56423931",
   "metadata": {},
   "outputs": [
    {
     "data": {
      "text/plain": [
       "(3, 3)"
      ]
     },
     "execution_count": 62,
     "metadata": {},
     "output_type": "execute_result"
    }
   ],
   "source": [
    "# get the size of the array\n",
    "\n",
    "array.shape"
   ]
  },
  {
   "cell_type": "code",
   "execution_count": 63,
   "id": "b84c81e8-6c1f-4e54-9d28-bda8e53cd758",
   "metadata": {},
   "outputs": [
    {
     "data": {
      "text/plain": [
       "9"
      ]
     },
     "execution_count": 63,
     "metadata": {},
     "output_type": "execute_result"
    }
   ],
   "source": [
    "# get last item on the array \n",
    "\n",
    "array.item(array.shape[0] -1, array.shape[1]-1)"
   ]
  },
  {
   "cell_type": "code",
   "execution_count": 64,
   "id": "adbcd0a3-24e0-41a3-ab50-8e1ef181737d",
   "metadata": {},
   "outputs": [
    {
     "data": {
      "text/plain": [
       "array([1, 2, 3], dtype=int8)"
      ]
     },
     "execution_count": 64,
     "metadata": {},
     "output_type": "execute_result"
    }
   ],
   "source": [
    "# get index values from the array\n",
    "\n",
    "np.take(array,[0,1,2])\n",
    "\n"
   ]
  },
  {
   "cell_type": "code",
   "execution_count": 69,
   "id": "128186fc-9902-4707-b1e3-554dbfd6556e",
   "metadata": {},
   "outputs": [
    {
     "data": {
      "text/plain": [
       "array([[10, 10, 10],\n",
       "       [ 4,  5,  6],\n",
       "       [ 7,  8,  9]], dtype=int8)"
      ]
     },
     "execution_count": 69,
     "metadata": {},
     "output_type": "execute_result"
    }
   ],
   "source": [
    "# set values by indexes in the array\n",
    "\n",
    "np.put(array,[0,1,2], [10,10,10])\n",
    "array"
   ]
  },
  {
   "cell_type": "code",
   "execution_count": 71,
   "id": "4e4290d1-17f0-4665-a605-5e5730638046",
   "metadata": {},
   "outputs": [
    {
     "data": {
      "text/plain": [
       "array([[10, 10, 10],\n",
       "       [ 4,  5,  6],\n",
       "       [ 7,  8,  9]], dtype=int8)"
      ]
     },
     "execution_count": 71,
     "metadata": {},
     "output_type": "execute_result"
    }
   ],
   "source": [
    "# slicing all array\n",
    "array[ : ]"
   ]
  },
  {
   "cell_type": "code",
   "execution_count": 74,
   "id": "330957c7-c7c1-44bd-9c0b-44cbba8abdba",
   "metadata": {},
   "outputs": [
    {
     "data": {
      "text/plain": [
       "array([10, 10], dtype=int8)"
      ]
     },
     "execution_count": 74,
     "metadata": {},
     "output_type": "execute_result"
    }
   ],
   "source": [
    "# get first index and slice the first two from the array\n",
    "\n",
    "array[0, 0:2]"
   ]
  },
  {
   "cell_type": "code",
   "execution_count": 76,
   "id": "5f5bcfd9-d3b1-41d2-b08f-d1319b05a9da",
   "metadata": {},
   "outputs": [
    {
     "data": {
      "text/plain": [
       "array([10, 10, 10,  4,  6,  8], dtype=int8)"
      ]
     },
     "execution_count": 76,
     "metadata": {},
     "output_type": "execute_result"
    }
   ],
   "source": [
    "# get even values\n",
    "\n",
    "array[array%2==0]"
   ]
  },
  {
   "cell_type": "code",
   "execution_count": 77,
   "id": "10b9289e-49ed-439a-889e-360842429ad5",
   "metadata": {},
   "outputs": [
    {
     "data": {
      "text/plain": [
       "array([10, 10, 10,  6,  7,  8,  9], dtype=int8)"
      ]
     },
     "execution_count": 77,
     "metadata": {},
     "output_type": "execute_result"
    }
   ],
   "source": [
    "# get values greater than 5\n",
    "\n",
    "array[array > 5]"
   ]
  },
  {
   "cell_type": "code",
   "execution_count": null,
   "id": "c5a0a204-1209-4a06-b735-4b331b787368",
   "metadata": {},
   "outputs": [],
   "source": []
  }
 ],
 "metadata": {
  "kernelspec": {
   "display_name": "Python [conda env:base] *",
   "language": "python",
   "name": "conda-base-py"
  },
  "language_info": {
   "codemirror_mode": {
    "name": "ipython",
    "version": 3
   },
   "file_extension": ".py",
   "mimetype": "text/x-python",
   "name": "python",
   "nbconvert_exporter": "python",
   "pygments_lexer": "ipython3",
   "version": "3.12.7"
  }
 },
 "nbformat": 4,
 "nbformat_minor": 5
}

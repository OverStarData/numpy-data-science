{
 "cells": [
  {
   "cell_type": "markdown",
   "id": "e5ed692c-463e-4cfd-ad59-4d72dd2042ad",
   "metadata": {},
   "source": [
    "# stacking & spliting arrays"
   ]
  },
  {
   "cell_type": "code",
   "execution_count": 1,
   "id": "f2ef9f5a-7121-40d2-a13f-d9977a7f6836",
   "metadata": {},
   "outputs": [],
   "source": [
    "# import libs \n",
    "\n",
    "import numpy as np\n",
    "from matplotlib import pyplot as plt\n",
    "from numpy import random"
   ]
  },
  {
   "cell_type": "code",
   "execution_count": 2,
   "id": "f60a1c45-4e4d-4e3d-87af-422256eddd85",
   "metadata": {},
   "outputs": [
    {
     "data": {
      "text/plain": [
       "array([[1, 2, 3],\n",
       "       [4, 5, 6],\n",
       "       [7, 8, 9]], dtype=int8)"
      ]
     },
     "execution_count": 2,
     "metadata": {},
     "output_type": "execute_result"
    }
   ],
   "source": [
    "# create the array\n",
    "\n",
    "array = np.array(\n",
    "    [\n",
    "    [1,2,3],\n",
    "    [4,5,6],\n",
    "    [7,8,9]\n",
    "    ] , dtype=np.int8\n",
    ")\n",
    "array"
   ]
  },
  {
   "cell_type": "code",
   "execution_count": null,
   "id": "18aa2d32-f121-48f7-b3fe-67c46c196cf1",
   "metadata": {},
   "outputs": [],
   "source": []
  }
 ],
 "metadata": {
  "kernelspec": {
   "display_name": "Python [conda env:base] *",
   "language": "python",
   "name": "conda-base-py"
  },
  "language_info": {
   "codemirror_mode": {
    "name": "ipython",
    "version": 3
   },
   "file_extension": ".py",
   "mimetype": "text/x-python",
   "name": "python",
   "nbconvert_exporter": "python",
   "pygments_lexer": "ipython3",
   "version": "3.12.7"
  }
 },
 "nbformat": 4,
 "nbformat_minor": 5
}

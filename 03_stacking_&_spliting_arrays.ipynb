{
 "cells": [
  {
   "cell_type": "code",
   "execution_count": null,
   "id": "cd641803-b25e-42c9-b8b4-17e5796aa500",
   "metadata": {},
   "outputs": [],
   "source": []
  }
 ],
 "metadata": {
  "kernelspec": {
   "display_name": "",
   "name": ""
  },
  "language_info": {
   "name": ""
  }
 },
 "nbformat": 4,
 "nbformat_minor": 5
}

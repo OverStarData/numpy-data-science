{
 "cells": [
  {
   "cell_type": "markdown",
   "id": "00c5e35b-cee0-4c4d-9d17-fcfc311a890d",
   "metadata": {},
   "source": [
    "# reshaping arrays"
   ]
  },
  {
   "cell_type": "code",
   "execution_count": 1,
   "id": "046599c0-e6ad-4762-b7a5-0de733356a99",
   "metadata": {},
   "outputs": [],
   "source": [
    "# import libs \n",
    "\n",
    "import numpy as np\n",
    "from matplotlib import pyplot as plt\n",
    "from numpy import random"
   ]
  },
  {
   "cell_type": "code",
   "execution_count": 5,
   "id": "4a502640-88e7-4889-b91a-500ce6c1eb44",
   "metadata": {},
   "outputs": [
    {
     "data": {
      "text/plain": [
       "array([[1, 2, 3],\n",
       "       [4, 5, 6],\n",
       "       [7, 8, 9]], dtype=int8)"
      ]
     },
     "execution_count": 5,
     "metadata": {},
     "output_type": "execute_result"
    }
   ],
   "source": [
    "# create the array\n",
    "\n",
    "array = np.array(\n",
    "    [\n",
    "    [1,2,3],\n",
    "    [4,5,6],\n",
    "    [7,8,9]\n",
    "    ] , dtype=np.int8\n",
    ")\n",
    "array"
   ]
  },
  {
   "cell_type": "code",
   "execution_count": 11,
   "id": "f7ac80b4-94e8-4a0d-89cc-006a3e606ab1",
   "metadata": {},
   "outputs": [
    {
     "data": {
      "text/plain": [
       "array([[1, 2, 3, 4, 5, 6, 7, 8, 9]], dtype=int8)"
      ]
     },
     "execution_count": 11,
     "metadata": {},
     "output_type": "execute_result"
    }
   ],
   "source": [
    "# reshaping array\n",
    "\n",
    "array.reshape((1,9))"
   ]
  },
  {
   "cell_type": "code",
   "execution_count": 14,
   "id": "6c344ee8-53b7-474b-95e1-61b959f0f2e6",
   "metadata": {},
   "outputs": [
    {
     "data": {
      "text/plain": [
       "array([[1, 2, 3, 4, 5, 6, 7, 8],\n",
       "       [9, 1, 2, 3, 4, 5, 6, 7]], dtype=int8)"
      ]
     },
     "execution_count": 14,
     "metadata": {},
     "output_type": "execute_result"
    }
   ],
   "source": [
    "# resize array\n",
    "\n",
    "np.resize(array, (2,8))"
   ]
  },
  {
   "cell_type": "code",
   "execution_count": 15,
   "id": "5835df88-2d98-4d99-ac8e-b831ab5f8cef",
   "metadata": {},
   "outputs": [
    {
     "data": {
      "text/plain": [
       "array([[1, 4, 7],\n",
       "       [2, 5, 8],\n",
       "       [3, 6, 9]], dtype=int8)"
      ]
     },
     "execution_count": 15,
     "metadata": {},
     "output_type": "execute_result"
    }
   ],
   "source": [
    "# transpose & rotate array\n",
    "\n",
    "array.transpose()"
   ]
  },
  {
   "cell_type": "code",
   "execution_count": 19,
   "id": "d22685bf-7292-4c75-8b54-f53d9ca832b7",
   "metadata": {},
   "outputs": [
    {
     "data": {
      "text/plain": [
       "array([[1, 4, 7],\n",
       "       [2, 5, 8],\n",
       "       [3, 6, 9]], dtype=int8)"
      ]
     },
     "execution_count": 19,
     "metadata": {},
     "output_type": "execute_result"
    }
   ],
   "source": [
    "# swap & rotate array\n",
    "\n",
    "array.swapaxes(0,1)"
   ]
  },
  {
   "cell_type": "code",
   "execution_count": 20,
   "id": "c2c4d7dd-a8a0-4bd8-b4ae-a52b622450d2",
   "metadata": {},
   "outputs": [
    {
     "data": {
      "text/plain": [
       "array([1, 2, 3, 4, 5, 6, 7, 8, 9], dtype=int8)"
      ]
     },
     "execution_count": 20,
     "metadata": {},
     "output_type": "execute_result"
    }
   ],
   "source": [
    "# convert array to one dim\n",
    "\n",
    "array.flatten()"
   ]
  },
  {
   "cell_type": "code",
   "execution_count": 26,
   "id": "588ea2d9-2fdb-44af-8745-3d3bb2da29d2",
   "metadata": {},
   "outputs": [
    {
     "data": {
      "text/plain": [
       "array([[1, 2, 3],\n",
       "       [4, 5, 6],\n",
       "       [7, 8, 9]], dtype=int8)"
      ]
     },
     "execution_count": 26,
     "metadata": {},
     "output_type": "execute_result"
    }
   ],
   "source": [
    "# set array unsorted values\n",
    "array = np.array(\n",
    "    [\n",
    "    [1,2,3],\n",
    "    [4,5,6],\n",
    "    [7,8,9]\n",
    "    ] , dtype=np.int8\n",
    ")\n",
    "array\n"
   ]
  },
  {
   "cell_type": "code",
   "execution_count": 30,
   "id": "74999c08-f633-411f-b52c-6499f6940445",
   "metadata": {},
   "outputs": [
    {
     "data": {
      "text/plain": [
       "array([[1, 2, 3],\n",
       "       [4, 5, 6],\n",
       "       [7, 8, 9]], dtype=int8)"
      ]
     },
     "execution_count": 30,
     "metadata": {},
     "output_type": "execute_result"
    }
   ],
   "source": [
    "# sort the array\n",
    "\n",
    "array.sort(axis=0)\n",
    "array"
   ]
  },
  {
   "cell_type": "code",
   "execution_count": null,
   "id": "4e1c687d-06ed-452a-a197-5a20a66941c0",
   "metadata": {},
   "outputs": [],
   "source": []
  }
 ],
 "metadata": {
  "kernelspec": {
   "display_name": "Python [conda env:base] *",
   "language": "python",
   "name": "conda-base-py"
  },
  "language_info": {
   "codemirror_mode": {
    "name": "ipython",
    "version": 3
   },
   "file_extension": ".py",
   "mimetype": "text/x-python",
   "name": "python",
   "nbconvert_exporter": "python",
   "pygments_lexer": "ipython3",
   "version": "3.12.7"
  }
 },
 "nbformat": 4,
 "nbformat_minor": 5
}

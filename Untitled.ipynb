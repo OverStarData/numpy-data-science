{
 "cells": [
  {
   "cell_type": "markdown",
   "id": "73d8645e-80cc-45cd-a700-56c242b088ba",
   "metadata": {},
   "source": [
    "# Creating arrays and data types\n"
   ]
  },
  {
   "cell_type": "code",
   "execution_count": 1,
   "id": "2fde33f7-7cf8-4025-bb10-44d76b3c25ad",
   "metadata": {},
   "outputs": [],
   "source": [
    "import numpy as np\n",
    "from matplotlib import pyplot as plt\n",
    "from numpy import random"
   ]
  },
  {
   "cell_type": "code",
   "execution_count": 2,
   "id": "35bc8ba3-110e-4e30-96f2-c9206192e44f",
   "metadata": {},
   "outputs": [],
   "source": [
    "list_1 = [1,2,3,4,5]"
   ]
  },
  {
   "cell_type": "code",
   "execution_count": 5,
   "id": "9d240b6c-b90f-4af1-b900-245760ded1ce",
   "metadata": {},
   "outputs": [],
   "source": [
    "np_arr_1  = np.array(list_1, dtype=np.int8)"
   ]
  },
  {
   "cell_type": "code",
   "execution_count": 6,
   "id": "0e7a8198-6b36-488d-8769-667b1b55633f",
   "metadata": {},
   "outputs": [
    {
     "data": {
      "text/plain": [
       "array([1, 2, 3, 4, 5], dtype=int8)"
      ]
     },
     "execution_count": 6,
     "metadata": {},
     "output_type": "execute_result"
    }
   ],
   "source": [
    "np_arr_1"
   ]
  },
  {
   "cell_type": "code",
   "execution_count": 15,
   "id": "ac6842a9-47d6-4202-a84a-026fcba74b05",
   "metadata": {},
   "outputs": [],
   "source": [
    "m_list_2 = [[1,2,3],[2,4,5]]"
   ]
  },
  {
   "cell_type": "code",
   "execution_count": 49,
   "id": "4a84ce78-6f35-4c65-9c88-b7fd828ca258",
   "metadata": {},
   "outputs": [],
   "source": [
    "np_arr_2 = np.array(m_list_2, dtype=np.int8)"
   ]
  },
  {
   "cell_type": "code",
   "execution_count": 50,
   "id": "3b079932-b463-41d3-a638-b71cc6121f48",
   "metadata": {},
   "outputs": [
    {
     "data": {
      "text/plain": [
       "array([[1, 2, 3],\n",
       "       [2, 4, 5]], dtype=int8)"
      ]
     },
     "execution_count": 50,
     "metadata": {},
     "output_type": "execute_result"
    }
   ],
   "source": [
    "np_arr_2"
   ]
  },
  {
   "cell_type": "code",
   "execution_count": 56,
   "id": "65f31733-c1d9-4c52-9fb4-2afa4e74b696",
   "metadata": {},
   "outputs": [
    {
     "data": {
      "text/plain": [
       "dtype('int8')"
      ]
     },
     "execution_count": 56,
     "metadata": {},
     "output_type": "execute_result"
    }
   ],
   "source": [
    "np_arr_2.dtype"
   ]
  },
  {
   "cell_type": "code",
   "execution_count": 57,
   "id": "d333d8b1-bbdc-4c3f-a1e6-41923560daa5",
   "metadata": {},
   "outputs": [
    {
     "data": {
      "text/plain": [
       "array([5, 7, 9])"
      ]
     },
     "execution_count": 57,
     "metadata": {},
     "output_type": "execute_result"
    }
   ],
   "source": [
    "np.arange(5,10,2)"
   ]
  },
  {
   "cell_type": "code",
   "execution_count": 58,
   "id": "1286fb7f-7e63-41b2-9a06-f6922fa56e47",
   "metadata": {},
   "outputs": [
    {
     "data": {
      "text/plain": [
       "array([0.  , 1.25, 2.5 , 3.75, 5.  ])"
      ]
     },
     "execution_count": 58,
     "metadata": {},
     "output_type": "execute_result"
    }
   ],
   "source": [
    "np.linspace(0,5,5)"
   ]
  },
  {
   "cell_type": "code",
   "execution_count": 59,
   "id": "53193340-7884-4226-841c-8b884b04090b",
   "metadata": {},
   "outputs": [
    {
     "data": {
      "text/plain": [
       "array([0., 0.])"
      ]
     },
     "execution_count": 59,
     "metadata": {},
     "output_type": "execute_result"
    }
   ],
   "source": [
    "np.zeros(2)"
   ]
  },
  {
   "cell_type": "code",
   "execution_count": 60,
   "id": "52b67579-4d90-4425-832f-2066918a5de1",
   "metadata": {},
   "outputs": [
    {
     "data": {
      "text/plain": [
       "array([[0., 0., 0.],\n",
       "       [0., 0., 0.]])"
      ]
     },
     "execution_count": 60,
     "metadata": {},
     "output_type": "execute_result"
    }
   ],
   "source": [
    "np.zeros((2,3))"
   ]
  },
  {
   "cell_type": "code",
   "execution_count": 61,
   "id": "66e8c665-f78f-4403-94e3-9b2505716d45",
   "metadata": {},
   "outputs": [
    {
     "data": {
      "text/plain": [
       "array([1., 1., 1., 1.])"
      ]
     },
     "execution_count": 61,
     "metadata": {},
     "output_type": "execute_result"
    }
   ],
   "source": [
    "np.ones(4)"
   ]
  },
  {
   "cell_type": "code",
   "execution_count": 62,
   "id": "97e5bf6b-4133-4250-9afc-0231746653c5",
   "metadata": {},
   "outputs": [
    {
     "data": {
      "text/plain": [
       "array([[1., 1., 1.],\n",
       "       [1., 1., 1.]])"
      ]
     },
     "execution_count": 62,
     "metadata": {},
     "output_type": "execute_result"
    }
   ],
   "source": [
    "np.ones((2,3))"
   ]
  },
  {
   "cell_type": "code",
   "execution_count": 63,
   "id": "a4d49f0a-5ed5-4949-a871-333a356c47fd",
   "metadata": {},
   "outputs": [
    {
     "data": {
      "text/plain": [
       "array([7, 8, 9])"
      ]
     },
     "execution_count": 63,
     "metadata": {},
     "output_type": "execute_result"
    }
   ],
   "source": [
    "np.random.randint(5,10, 3)"
   ]
  },
  {
   "cell_type": "code",
   "execution_count": 64,
   "id": "53a7a70f-2a13-43c7-ac42-d30e7eefa3aa",
   "metadata": {},
   "outputs": [
    {
     "data": {
      "text/plain": [
       "array([[8, 4, 4],\n",
       "       [6, 7, 6]])"
      ]
     },
     "execution_count": 64,
     "metadata": {},
     "output_type": "execute_result"
    }
   ],
   "source": [
    "np.random.randint(4,10,size=(2,3))"
   ]
  },
  {
   "cell_type": "code",
   "execution_count": 71,
   "id": "c428b597-880e-4f3a-95a6-f454c80abced",
   "metadata": {},
   "outputs": [
    {
     "data": {
      "text/plain": [
       "array([0.09530701, 0.51849062])"
      ]
     },
     "execution_count": 71,
     "metadata": {},
     "output_type": "execute_result"
    }
   ],
   "source": [
    "np.random.rand(2)\n"
   ]
  },
  {
   "cell_type": "code",
   "execution_count": 72,
   "id": "86eed7a6-428c-4ada-9d8a-6916a17ebd91",
   "metadata": {},
   "outputs": [
    {
     "data": {
      "text/plain": [
       "array([[0.02580482, 0.93670755, 0.45924025],\n",
       "       [0.46157484, 0.9833202 , 0.85689116]])"
      ]
     },
     "execution_count": 72,
     "metadata": {},
     "output_type": "execute_result"
    }
   ],
   "source": [
    "np.random.rand(2,3)"
   ]
  },
  {
   "cell_type": "code",
   "execution_count": null,
   "id": "9e6f0ea9-33fe-4578-8810-feb290cf440f",
   "metadata": {},
   "outputs": [],
   "source": []
  },
  {
   "cell_type": "code",
   "execution_count": null,
   "id": "a6d478d7-5d6a-45ae-a630-037b262abad7",
   "metadata": {},
   "outputs": [],
   "source": []
  }
 ],
 "metadata": {
  "kernelspec": {
   "display_name": "Python [conda env:base] *",
   "language": "python",
   "name": "conda-base-py"
  },
  "language_info": {
   "codemirror_mode": {
    "name": "ipython",
    "version": 3
   },
   "file_extension": ".py",
   "mimetype": "text/x-python",
   "name": "python",
   "nbconvert_exporter": "python",
   "pygments_lexer": "ipython3",
   "version": "3.12.7"
  }
 },
 "nbformat": 4,
 "nbformat_minor": 5
}
